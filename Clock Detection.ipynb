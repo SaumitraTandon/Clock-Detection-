{
 "cells": [
  {
   "cell_type": "markdown",
   "id": "3b95134a",
   "metadata": {},
   "source": [
    "## OpenCV"
   ]
  },
  {
   "cell_type": "code",
   "execution_count": null,
   "id": "d4d8f9ae",
   "metadata": {},
   "outputs": [],
   "source": [
    "import cv2"
   ]
  },
  {
   "cell_type": "code",
   "execution_count": null,
   "id": "e134cfb8",
   "metadata": {},
   "outputs": [],
   "source": [
    "from google.colab import drive\n",
    "drive.mount('/content/drive')"
   ]
  },
  {
   "cell_type": "markdown",
   "id": "5403376d",
   "metadata": {},
   "source": [
    "#### Clocks"
   ]
  },
  {
   "cell_type": "code",
   "execution_count": null,
   "id": "c6ecbfd3",
   "metadata": {},
   "outputs": [],
   "source": [
    "clock_detector = cv2.CascadeClassifier('/content/drive/MyDrive/Cursos - recursos/Computer Vision Masterclass/Cascades/clocks.xml')\n",
    "image = cv2.imread('/content/drive/MyDrive/Cursos - recursos/Computer Vision Masterclass/Images/clock.jpg')\n",
    "image_gray = cv2.cvtColor(image, cv2.COLOR_BGR2GRAY)\n",
    "detections = clock_detector.detectMultiScale(image_gray, scaleFactor = 1.03, minNeighbors=1)\n",
    "for (x, y, w, h) in detections:\n",
    "  cv2.rectangle(image, (x, y), (x + w, y + h), (0,255,0), 2)\n",
    "cv2_imshow(image)"
   ]
  }
 ],
 "metadata": {
  "kernelspec": {
   "display_name": "Python 3 (ipykernel)",
   "language": "python",
   "name": "python3"
  },
  "language_info": {
   "codemirror_mode": {
    "name": "ipython",
    "version": 3
   },
   "file_extension": ".py",
   "mimetype": "text/x-python",
   "name": "python",
   "nbconvert_exporter": "python",
   "pygments_lexer": "ipython3",
   "version": "3.11.5"
  }
 },
 "nbformat": 4,
 "nbformat_minor": 5
}
